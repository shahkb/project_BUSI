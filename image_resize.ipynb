{
 "cells": [
  {
   "cell_type": "markdown",
   "metadata": {},
   "source": [
    "# Image Resizing of Breast Ultra Sound Image dataset\n",
    "\n",
    "Here, we resize the images to a uniform resolution. The original dataset has images with an average image size of 500 x 500 pixels. Since pixels are representative of features and most algorithms require uniform feature size therefore we create datasets with uniform resolution. We create a dataset with resolution of 512 x 512. Additionaly, we also create datasets by downsampling to 256 x 256, 128 x 128, and 64 x 64 to test our algorithms. \n",
    "\n",
    "Note that image augmentation (by flipping along Y axis) has already been performed prior to this resizing step, so that  benign and malignant cases are almost balanced (437 vs 420, respectively)."
   ]
  },
  {
   "cell_type": "markdown",
   "metadata": {},
   "source": [
    "### Import packages"
   ]
  },
  {
   "cell_type": "code",
   "execution_count": 1,
   "metadata": {},
   "outputs": [],
   "source": [
    "import os\n",
    "import re\n",
    "import random\n",
    "from pathlib import Path\n",
    "from pprint import pprint\n",
    "\n",
    "import numpy as np\n",
    "import pandas as pd\n",
    "import matplotlib.pyplot as plt\n",
    "import cv2\n",
    "\n",
    "from utils import init_img_dict, get_file_dicts, filter_files, find_mask, print_ndarray_info\n",
    "from utils import img_read, img_write, img_resize, img_flip, comp_fft, histogram_equalization\n",
    "from utils import display_img, display_img_list_3, display_3_imgs, display_3_hist, resize_imgs, flip_imgs, append_img_data"
   ]
  },
  {
   "cell_type": "markdown",
   "metadata": {},
   "source": [
    "### Create image list (with dict object for each image) for the 3 classes"
   ]
  },
  {
   "cell_type": "code",
   "execution_count": 2,
   "metadata": {},
   "outputs": [
    {
     "name": "stdout",
     "output_type": "stream",
     "text": [
      "Number of images in normal dataset: 133\n",
      "Number of images in benign dataset: 437\n",
      "Number of images in malignant dataset: 420\n",
      "\n",
      "% of benign images (negative) in the dataset: 50.99% \n",
      "% of malignant images (positive) in the dataset: 49.01% \n",
      "Total number of images (positive + negative) in the dataset: 857 \n",
      "\n"
     ]
    }
   ],
   "source": [
    "normal_img_dir = './Dataset_BUSI_with_GT/normal'\n",
    "benign_img_dir = './Dataset_BUSI_with_GT/benign'\n",
    "malignant_img_dir = './Dataset_BUSI_with_GT/malignant'\n",
    "\n",
    "# Get a list of images in the images directory\n",
    "normal_img_list = get_file_dicts(normal_img_dir)\n",
    "num_normal_img = len(normal_img_list)\n",
    "print(f\"Number of images in normal dataset: {num_normal_img}\")\n",
    "\n",
    "benign_img_list = get_file_dicts(benign_img_dir)\n",
    "num_benign_img = len(benign_img_list)\n",
    "print(f\"Number of images in benign dataset: {num_benign_img}\")\n",
    "\n",
    "malignant_img_list = get_file_dicts(malignant_img_dir)\n",
    "num_malignant_img = len(malignant_img_list)\n",
    "print(f\"Number of images in malignant dataset: {num_malignant_img}\")\n",
    "\n",
    "# We will not consider normal images for our analysis.\n",
    "# Malignant is considered positive and Benign is considered negative\n",
    "num_total_img = num_benign_img + num_malignant_img\n",
    "\n",
    "print()\n",
    "print(f\"% of benign images (negative) in the dataset: {100*num_benign_img/num_total_img:0.2f}% \")\n",
    "print(f\"% of malignant images (positive) in the dataset: {100*num_malignant_img/num_total_img:0.2f}% \")\n",
    "print(f\"Total number of images (positive + negative) in the dataset: {num_total_img} \\n\")"
   ]
  },
  {
   "cell_type": "code",
   "execution_count": 3,
   "metadata": {},
   "outputs": [
    {
     "name": "stdout",
     "output_type": "stream",
     "text": [
      "Number of images resized to 64 resolution: 133\n",
      "Number of images resized to 64 resolution: 437\n",
      "Number of images resized to 64 resolution: 420\n",
      "Completed\n"
     ]
    }
   ],
   "source": [
    "# Resize the entire dataset (3 classes)\n",
    "img_size = 64\n",
    "\n",
    "normal_img_out_dir = './Dataset_BUSI_with_GT/normal_64'\n",
    "benign_img_out_dir = './Dataset_BUSI_with_GT/benign_64'\n",
    "malignant_img_out_dir = './Dataset_BUSI_with_GT/malignant_64'\n",
    "\n",
    "resize_imgs(normal_img_list, normal_img_out_dir, img_size)\n",
    "resize_imgs(benign_img_list, benign_img_out_dir, img_size)\n",
    "resize_imgs(malignant_img_list, malignant_img_out_dir, img_size)\n",
    "\n",
    "print(\"Completed\")"
   ]
  }
 ],
 "metadata": {
  "kernelspec": {
   "display_name": "Python 3.9.7 ('base')",
   "language": "python",
   "name": "python3"
  },
  "language_info": {
   "codemirror_mode": {
    "name": "ipython",
    "version": 3
   },
   "file_extension": ".py",
   "mimetype": "text/x-python",
   "name": "python",
   "nbconvert_exporter": "python",
   "pygments_lexer": "ipython3",
   "version": "3.9.7"
  },
  "orig_nbformat": 4,
  "vscode": {
   "interpreter": {
    "hash": "bbb2307e17ea36bb17521abc68671a87486d60f5db5f8ffac2e3b843695dd9f9"
   }
  }
 },
 "nbformat": 4,
 "nbformat_minor": 2
}
