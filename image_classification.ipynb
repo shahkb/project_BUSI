{
 "cells": [
  {
   "cell_type": "markdown",
   "metadata": {},
   "source": [
    "# Image classification of Breast Ultra Sound Images\n",
    "\n",
    "Here we experiment with classical algorithms such as Logistic Regression, SVM and Bag of Visual words\n"
   ]
  },
  {
   "cell_type": "markdown",
   "metadata": {},
   "source": [
    "### Import packages"
   ]
  },
  {
   "cell_type": "code",
   "execution_count": 21,
   "metadata": {},
   "outputs": [],
   "source": [
    "import os\n",
    "import re\n",
    "import random\n",
    "from pathlib import Path\n",
    "from pprint import pprint\n",
    "\n",
    "import numpy as np\n",
    "import pandas as pd\n",
    "import matplotlib.pyplot as plt\n",
    "import cv2\n",
    "\n",
    "from sklearn.decomposition import PCA\n",
    "\n",
    "from utils import init_img_dict, get_file_dicts, filter_files, find_mask, print_ndarray_info\n",
    "from utils import img_read, img_write, img_resize, img_flip, comp_fft, histogram_equalization\n",
    "from utils import display_img, display_img_list_3, display_3_imgs, display_3_hist, resize_imgs, flip_imgs, append_img_data\n",
    "\n",
    "from sklearn.utils import shuffle\n",
    "from sklearn.model_selection import train_test_split\n",
    "from sklearn.linear_model import LogisticRegression\n",
    "from sklearn.metrics import accuracy_score, roc_curve, roc_auc_score, classification_report, confusion_matrix \n",
    "from sklearn.preprocessing import StandardScaler\n",
    "\n",
    "from sklearn.model_selection import GridSearchCV\n",
    "from sklearn.pipeline import Pipeline"
   ]
  },
  {
   "cell_type": "markdown",
   "metadata": {},
   "source": [
    "### Functions to assess model quality and to plot confusion matrix, ROC etc."
   ]
  },
  {
   "cell_type": "code",
   "execution_count": 22,
   "metadata": {},
   "outputs": [],
   "source": [
    "# Plot confusion matrix (binary)\n",
    "def plot_cm(cm):\n",
    "    \n",
    "    fig, ax = plt.subplots(figsize=(6, 6))\n",
    "    ax.imshow(cm)\n",
    "    ax.grid(False)\n",
    "    ax.xaxis.set(ticks=(0, 1), ticklabels=('Predicted 0s', 'Predicted 1s'))\n",
    "    ax.yaxis.set(ticks=(0, 1), ticklabels=('Actual 0s', 'Actual 1s'))\n",
    "    ax.set_ylim(1.5, -0.5)\n",
    "    for i in range(2):\n",
    "        for j in range(2):\n",
    "            ax.text(j, i, cm[i, j], ha='center', va='center', color='red')\n",
    "    plt.title(\"Confusion matrix\")\n",
    "    plt.show()\n",
    "    \n",
    "\n",
    "# Plot ROC\n",
    "def plot_ROC(fpr, tpr, auc):\n",
    "\n",
    "    plt.figure(figsize = (6.4, 6.4))\n",
    "    plt.plot(fpr, tpr, label= f\"ROC, auc= {auc:.2f}\")\n",
    "    plt.title(\"ROC curve\")\n",
    "    plt.legend(loc=4)\n",
    "    plt.show()\n",
    "    \n",
    "\n",
    "# To assess model quality analysis\n",
    "def model_quality(model, X_train, X_test, y_train, y_test):\n",
    "\n",
    "    # Accuracy\n",
    "    print(f\"Model accuracy on training data: {model.score(X_train, y_train):.2f} \")\n",
    "    print(f\"Model accuracy on test data: {model.score(X_test, y_test):.2f} \")\n",
    "\n",
    "    # Classification report (precision, recall, f1 score)\n",
    "    print(f\"\\nClassification report:\\n {classification_report(y_test, model.predict(X_test))} \")\n",
    "\n",
    "    # Confusion matrix\n",
    "    cm = confusion_matrix(y_test, model.predict(X_test))\n",
    "    print(f\"Confusion matrix:\\n {cm}\\n\")\n",
    "    plot_cm(cm)\n",
    "\n",
    "    # ROC curve\n",
    "    y_pred_proba = model.predict_proba(X_test)[::,1]\n",
    "    fpr, tpr, _ = roc_curve(y_test,  y_pred_proba)\n",
    "    auc = roc_auc_score(y_test, y_pred_proba)\n",
    "    plot_ROC(fpr, tpr, auc)\n",
    "\n",
    "# Get indices for True positives, True negatives, False positives and False negatives\n",
    "def get_indices(model, X, y):\n",
    "\n",
    "    y_pred = model.predict(X)\n",
    "    tp_index = np.argwhere( (y == 1) & (y_pred == 1))\n",
    "    tn_index = np.argwhere( (y == 0) & (y_pred == 0))\n",
    "    fp_index = np.argwhere( (y == 0) & (y_pred == 1))\n",
    "    fn_index = np.argwhere( (y == 1) & (y_pred == 0))\n",
    "\n",
    "    return (tp_index, tn_index, fp_index, fn_index)\n"
   ]
  },
  {
   "cell_type": "markdown",
   "metadata": {},
   "source": [
    "## Read image list (with dict object for each image) for the 2 classes (Benign and Malignant)\n",
    " - Read benign and malignant dataset into a list"
   ]
  },
  {
   "cell_type": "code",
   "execution_count": 23,
   "metadata": {},
   "outputs": [
    {
     "name": "stdout",
     "output_type": "stream",
     "text": [
      "Number of images in benign dataset: 437\n",
      "Number of images in malignant dataset: 420\n"
     ]
    }
   ],
   "source": [
    "img_res = 256\n",
    "\n",
    "benign_img_dir = './Dataset_BUSI_with_GT/benign_256'\n",
    "malignant_img_dir = './Dataset_BUSI_with_GT/malignant_256'\n",
    "\n",
    "# Get a list of all images in a image directory\n",
    "benign_img_list_all = get_file_dicts(benign_img_dir)\n",
    "num_benign_img = len(benign_img_list_all)\n",
    "print(f\"Number of images in benign dataset: {num_benign_img}\")\n",
    "\n",
    "malignant_img_list_all = get_file_dicts(malignant_img_dir)\n",
    "num_malignant_img = len(malignant_img_list_all)\n",
    "print(f\"Number of images in malignant dataset: {num_malignant_img}\")"
   ]
  },
  {
   "cell_type": "markdown",
   "metadata": {},
   "source": [
    "## Prepare data for classification\n",
    " - Generate feature (pixels) and target data (0 for benign and 1 for malignant)\n",
    " - Shuffle the data\n",
    " - Split data in to training and test (70-30) set\n",
    " - Scale the data (use Standard scaler)"
   ]
  },
  {
   "cell_type": "code",
   "execution_count": 24,
   "metadata": {},
   "outputs": [
    {
     "name": "stdout",
     "output_type": "stream",
     "text": [
      "Image feature data - benign + malignant [ndim, shape, dtype, min, max]: [2, (857, 65536), float32, 0.0, 1.0]\n",
      "(857, 65536)\n",
      "(857,)\n"
     ]
    }
   ],
   "source": [
    "# Assemble feature and target data\n",
    "img_data = np.empty((0, img_res*img_res), np.float32)\n",
    "\n",
    "# Read and append images to img_data\n",
    "#img_list = malignant_img_list_all[0:3:2]\n",
    "img_list = benign_img_list_all + malignant_img_list_all\n",
    "img_data = append_img_data(img_list, img_data)\n",
    "print_ndarray_info(img_data, \"Image feature data - benign + malignant\")\n",
    "\n",
    "# Create labels - 0 for benign and 1 for malignant\n",
    "img_labels = np.array([0]*num_benign_img, dtype= np.int32)\n",
    "img_labels = np.append(img_labels, np.array([1]*num_malignant_img, dtype= np.int32))\n",
    "\n",
    "# Indices are used to recover images after shuffling\n",
    "# indices 0 to num_benign_img - 1 is from benign and rest for malignant\n",
    "indices = np.arange(0, num_benign_img + num_malignant_img, dtype= np.int32)\n",
    "\n",
    "X, y = img_data, img_labels\n",
    "\n",
    "print(img_data.shape)\n",
    "print(img_labels.shape)"
   ]
  },
  {
   "cell_type": "code",
   "execution_count": 25,
   "metadata": {},
   "outputs": [
    {
     "name": "stdout",
     "output_type": "stream",
     "text": [
      "X_train:  [ndim, shape, dtype, min, max]: [2, (599, 65536), float32, 0.0, 1.0]\n",
      "X_test:  [ndim, shape, dtype, min, max]: [2, (258, 65536), float32, 0.0, 1.0]\n"
     ]
    }
   ],
   "source": [
    "# Shuffle and split data (keep same proportions of positive and negative in training and test set)\n",
    "X_train_orig, X_test_orig, y_train, y_test, indices_train, indices_test = train_test_split(X, y, indices, test_size=0.3, random_state= 7, stratify= y)\n",
    "print_ndarray_info(X_train_orig, \"X_train: \")\n",
    "print_ndarray_info(X_test_orig, \"X_test: \")\n",
    "\n",
    "# Scale training data and transform the test data\n",
    "scaler = StandardScaler()\n",
    "X_train_orig = scaler.fit_transform(X_train_orig)\n",
    "X_test_orig = scaler.transform(X_test_orig)"
   ]
  },
  {
   "cell_type": "markdown",
   "metadata": {},
   "source": [
    "### 1. Logistic regression with raw pixels:\n",
    "#### C = 1.0 (Inverse of regularization strength)"
   ]
  },
  {
   "cell_type": "code",
   "execution_count": 6,
   "metadata": {},
   "outputs": [
    {
     "data": {
      "text/plain": [
       "LogisticRegression(random_state=0, solver='liblinear')"
      ]
     },
     "execution_count": 6,
     "metadata": {},
     "output_type": "execute_result"
    }
   ],
   "source": [
    "# Create a model and train\n",
    "# solver= 'liblinear' 'lbfgs'\n",
    "model = LogisticRegression(solver= 'liblinear', C= 1.0, random_state= 0)\n",
    "X_train, X_test = X_train_orig.copy(), X_test_orig.copy()\n",
    "model.fit(X_train, y_train)"
   ]
  },
  {
   "cell_type": "markdown",
   "metadata": {},
   "source": [
    "### Assess model quality"
   ]
  },
  {
   "cell_type": "code",
   "execution_count": 7,
   "metadata": {},
   "outputs": [
    {
     "name": "stdout",
     "output_type": "stream",
     "text": [
      "Model accuracy on training data: 1.00 \n",
      "Model accuracy on test data: 0.75 \n",
      "\n",
      "Classification report:\n",
      "               precision    recall  f1-score   support\n",
      "\n",
      "           0       0.77      0.72      0.75       132\n",
      "           1       0.73      0.78      0.75       126\n",
      "\n",
      "    accuracy                           0.75       258\n",
      "   macro avg       0.75      0.75      0.75       258\n",
      "weighted avg       0.75      0.75      0.75       258\n",
      " \n",
      "Confusion matrix:\n",
      " [[95 37]\n",
      " [28 98]]\n",
      "\n"
     ]
    },
    {
     "data": {
      "image/png": "[encoded data removed]",
      "text/plain": [
       "<Figure size 432x432 with 1 Axes>"
      ]
     },
     "metadata": {
      "needs_background": "light"
     },
     "output_type": "display_data"
    },
    {
     "data": {
      "image/png": "[encoded data removed]",
      "text/plain": [
       "<Figure size 460.8x460.8 with 1 Axes>"
      ]
     },
     "metadata": {
      "needs_background": "light"
     },
     "output_type": "display_data"
    }
   ],
   "source": [
    "model_quality(model, X_train, X_test, y_train, y_test)"
   ]
  },
  {
   "cell_type": "markdown",
   "metadata": {},
   "source": [
    "### 1. Logistic regression with raw pixels: \n",
    "#### Fine tune logistic regression model parameters using Gridsearch"
   ]
  },
  {
   "cell_type": "code",
   "execution_count": 8,
   "metadata": {},
   "outputs": [
    {
     "name": "stdout",
     "output_type": "stream",
     "text": [
      "Fitting 5 folds for each of 8 candidates, totalling 40 fits\n",
      "[CV 1/5] END C=0.01, penalty=l1, solver=liblinear;, score=0.625 total time=   1.4s\n",
      "[CV 2/5] END C=0.01, penalty=l1, solver=liblinear;, score=0.608 total time=   2.2s\n",
      "[CV 3/5] END C=0.01, penalty=l1, solver=liblinear;, score=0.508 total time=   1.8s\n",
      "[CV 4/5] END C=0.01, penalty=l1, solver=liblinear;, score=0.642 total time=   1.7s\n",
      "[CV 5/5] END C=0.01, penalty=l1, solver=liblinear;, score=0.689 total time=   2.0s\n",
      "[CV 1/5] END C=0.01, penalty=l2, solver=liblinear;, score=0.792 total time=  15.3s\n",
      "[CV 2/5] END C=0.01, penalty=l2, solver=liblinear;, score=0.708 total time=  15.9s\n",
      "[CV 3/5] END C=0.01, penalty=l2, solver=liblinear;, score=0.783 total time=  13.6s\n",
      "[CV 4/5] END C=0.01, penalty=l2, solver=liblinear;, score=0.725 total time=  17.3s\n",
      "[CV 5/5] END C=0.01, penalty=l2, solver=liblinear;, score=0.790 total time=  17.2s\n",
      "[CV 1/5] END C=0.1, penalty=l1, solver=liblinear;, score=0.808 total time=   2.4s\n",
      "[CV 2/5] END C=0.1, penalty=l1, solver=liblinear;, score=0.792 total time=   2.7s\n",
      "[CV 3/5] END C=0.1, penalty=l1, solver=liblinear;, score=0.783 total time=   2.7s\n",
      "[CV 4/5] END C=0.1, penalty=l1, solver=liblinear;, score=0.825 total time=   2.4s\n",
      "[CV 5/5] END C=0.1, penalty=l1, solver=liblinear;, score=0.798 total time=   2.6s\n",
      "[CV 1/5] END C=0.1, penalty=l2, solver=liblinear;, score=0.783 total time=  25.8s\n",
      "[CV 2/5] END C=0.1, penalty=l2, solver=liblinear;, score=0.725 total time=  20.9s\n",
      "[CV 3/5] END C=0.1, penalty=l2, solver=liblinear;, score=0.758 total time=  19.9s\n",
      "[CV 4/5] END C=0.1, penalty=l2, solver=liblinear;, score=0.725 total time=  22.1s\n",
      "[CV 5/5] END C=0.1, penalty=l2, solver=liblinear;, score=0.798 total time=  22.4s\n",
      "[CV 1/5] END C=1.0, penalty=l1, solver=liblinear;, score=0.825 total time=   2.8s\n",
      "[CV 2/5] END C=1.0, penalty=l1, solver=liblinear;, score=0.792 total time=   2.9s\n",
      "[CV 3/5] END C=1.0, penalty=l1, solver=liblinear;, score=0.783 total time=   3.6s\n",
      "[CV 4/5] END C=1.0, penalty=l1, solver=liblinear;, score=0.775 total time=   3.5s\n",
      "[CV 5/5] END C=1.0, penalty=l1, solver=liblinear;, score=0.782 total time=   3.5s\n",
      "[CV 1/5] END C=1.0, penalty=l2, solver=liblinear;, score=0.783 total time=  27.0s\n",
      "[CV 2/5] END C=1.0, penalty=l2, solver=liblinear;, score=0.717 total time=  26.8s\n",
      "[CV 3/5] END C=1.0, penalty=l2, solver=liblinear;, score=0.750 total time=  28.8s\n",
      "[CV 4/5] END C=1.0, penalty=l2, solver=liblinear;, score=0.725 total time=  30.0s\n",
      "[CV 5/5] END C=1.0, penalty=l2, solver=liblinear;, score=0.815 total time=  27.9s\n",
      "[CV 1/5] END C=10.0, penalty=l1, solver=liblinear;, score=0.833 total time=   2.6s\n",
      "[CV 2/5] END C=10.0, penalty=l1, solver=liblinear;, score=0.767 total time=   3.1s\n",
      "[CV 3/5] END C=10.0, penalty=l1, solver=liblinear;, score=0.767 total time=   3.9s\n",
      "[CV 4/5] END C=10.0, penalty=l1, solver=liblinear;, score=0.758 total time=   3.5s\n",
      "[CV 5/5] END C=10.0, penalty=l1, solver=liblinear;, score=0.807 total time=   4.3s\n",
      "[CV 1/5] END C=10.0, penalty=l2, solver=liblinear;, score=0.758 total time=  28.3s\n",
      "[CV 2/5] END C=10.0, penalty=l2, solver=liblinear;, score=0.717 total time=  23.5s\n",
      "[CV 3/5] END C=10.0, penalty=l2, solver=liblinear;, score=0.725 total time=  19.4s\n",
      "[CV 4/5] END C=10.0, penalty=l2, solver=liblinear;, score=0.692 total time=  19.9s\n",
      "[CV 5/5] END C=10.0, penalty=l2, solver=liblinear;, score=0.824 total time=  19.2s\n"
     ]
    },
    {
     "data": {
      "text/plain": [
       "GridSearchCV(estimator=LogisticRegression(random_state=0),\n",
       "             param_grid={'C': [0.01, 0.1, 1.0, 10.0], 'penalty': ['l1', 'l2'],\n",
       "                         'solver': ['liblinear']},\n",
       "             scoring='accuracy', verbose=3)"
      ]
     },
     "execution_count": 8,
     "metadata": {},
     "output_type": "execute_result"
    }
   ],
   "source": [
    "# Define parameter range ['liblinear', 'lbfgs', 'newton-cg']\n",
    "param_grid = {'penalty':  ['l1', 'l2'],\n",
    "              'C': [0.01, 0.1, 1.0, 10.0],  \n",
    "              'solver': ['liblinear']\n",
    "             }\n",
    "\n",
    "grid = GridSearchCV(LogisticRegression(random_state= 0), param_grid, scoring= 'accuracy', refit= True, verbose= 3)\n",
    "\n",
    "# Fit the model using grid search \n",
    "grid.fit(X_train, y_train) "
   ]
  },
  {
   "cell_type": "markdown",
   "metadata": {},
   "source": [
    "### 1. Logistic regression with raw pixels: \n",
    "#### Assess the quality of the best model from Gridsearch"
   ]
  },
  {
   "cell_type": "code",
   "execution_count": 10,
   "metadata": {},
   "outputs": [
    {
     "name": "stdout",
     "output_type": "stream",
     "text": [
      "Best model parameters:  {'C': 0.1, 'penalty': 'l1', 'solver': 'liblinear'}\n",
      "Model accuracy on training data: 0.94 \n",
      "Model accuracy on test data: 0.77 \n",
      "\n",
      "Classification report:\n",
      "               precision    recall  f1-score   support\n",
      "\n",
      "           0       0.77      0.78      0.77       132\n",
      "           1       0.77      0.75      0.76       126\n",
      "\n",
      "    accuracy                           0.77       258\n",
      "   macro avg       0.77      0.77      0.77       258\n",
      "weighted avg       0.77      0.77      0.77       258\n",
      " \n",
      "Confusion matrix:\n",
      " [[103  29]\n",
      " [ 31  95]]\n",
      "\n"
     ]
    },
    {
     "data": {
      "image/png": "[encoded data removed]",
      "text/plain": [
       "<Figure size 432x432 with 1 Axes>"
      ]
     },
     "metadata": {
      "needs_background": "light"
     },
     "output_type": "display_data"
    },
    {
     "data": {
      "image/png": "[encoded data removed]",
      "text/plain": [
       "<Figure size 460.8x460.8 with 1 Axes>"
      ]
     },
     "metadata": {
      "needs_background": "light"
     },
     "output_type": "display_data"
    }
   ],
   "source": [
    "# Print best parameter after tuning \n",
    "print(\"Best model parameters: \", grid.best_params_)\n",
    "model_best = grid.best_estimator_\n",
    "# Assess model quality\n",
    "model_quality(model_best, X_train, X_test, y_train, y_test)"
   ]
  },
  {
   "cell_type": "markdown",
   "metadata": {},
   "source": [
    "### 2. Logistic regression with Gaussian filter"
   ]
  },
  {
   "cell_type": "code",
   "execution_count": 17,
   "metadata": {},
   "outputs": [
    {
     "name": "stdout",
     "output_type": "stream",
     "text": [
      "X_train:  [ndim, shape, dtype, min, max]: [2, (599, 65536), float32, -3.906728506088257, 7.827014446258545]\n",
      "X_test:  [ndim, shape, dtype, min, max]: [2, (258, 65536), float32, -3.7959251403808594, 10.323933601379395]\n",
      "X_train:  [ndim, shape, dtype, min, max]: [2, (599, 65536), float32, -3.8843278884887695, 7.644279479980469]\n",
      "X_test:  [ndim, shape, dtype, min, max]: [2, (258, 65536), float32, -3.4776198863983154, 9.31573486328125]\n"
     ]
    }
   ],
   "source": [
    "# Apply Gaussian filter to X_train and X_test\n",
    "X_train, X_test = X_train_orig.copy(), X_test_orig.copy()\n",
    "print_ndarray_info(X_train, \"X_train: \")\n",
    "print_ndarray_info(X_test, \"X_test: \")\n",
    "\n",
    "nsamples, nfeatures = X_train.shape\n",
    "for isample in range(0, nsamples):\n",
    "    img = X_train[isample,:].reshape((img_res, img_res))\n",
    "    X_train[isample,:] = cv2.GaussianBlur(img, (5,5), 0).reshape((1, -1))\n",
    "\n",
    "nsamples, nfeatures = X_test.shape\n",
    "for isample in range(0, nsamples):\n",
    "    img = X_test[isample,:].reshape((img_res, img_res))\n",
    "    X_test[isample,:] = cv2.GaussianBlur(img, (5,5), 0).reshape((1, -1))\n",
    "\n",
    "print_ndarray_info(X_train, \"X_train: \")\n",
    "print_ndarray_info(X_test, \"X_test: \")"
   ]
  },
  {
   "cell_type": "markdown",
   "metadata": {},
   "source": [
    "### 2. Logistic regression with Gaussian filter\n",
    "#### Fine tune Logistic regression with Gaussian filter using Gridsearch"
   ]
  },
  {
   "cell_type": "code",
   "execution_count": 18,
   "metadata": {},
   "outputs": [
    {
     "name": "stdout",
     "output_type": "stream",
     "text": [
      "Fitting 5 folds for each of 8 candidates, totalling 40 fits\n",
      "[CV 1/5] END C=0.01, penalty=l1, solver=liblinear;, score=0.508 total time=   1.7s\n",
      "[CV 2/5] END C=0.01, penalty=l1, solver=liblinear;, score=0.508 total time=   1.7s\n",
      "[CV 3/5] END C=0.01, penalty=l1, solver=liblinear;, score=0.508 total time=   2.1s\n",
      "[CV 4/5] END C=0.01, penalty=l1, solver=liblinear;, score=0.508 total time=   2.8s\n",
      "[CV 5/5] END C=0.01, penalty=l1, solver=liblinear;, score=0.513 total time=   2.9s\n",
      "[CV 1/5] END C=0.01, penalty=l2, solver=liblinear;, score=0.775 total time=  29.4s\n",
      "[CV 2/5] END C=0.01, penalty=l2, solver=liblinear;, score=0.725 total time=  26.0s\n",
      "[CV 3/5] END C=0.01, penalty=l2, solver=liblinear;, score=0.783 total time=  26.4s\n",
      "[CV 4/5] END C=0.01, penalty=l2, solver=liblinear;, score=0.725 total time=  26.4s\n",
      "[CV 5/5] END C=0.01, penalty=l2, solver=liblinear;, score=0.765 total time=  28.2s\n",
      "[CV 1/5] END C=0.1, penalty=l1, solver=liblinear;, score=0.808 total time=   3.3s\n",
      "[CV 2/5] END C=0.1, penalty=l1, solver=liblinear;, score=0.800 total time=   2.3s\n",
      "[CV 3/5] END C=0.1, penalty=l1, solver=liblinear;, score=0.775 total time=   2.8s\n",
      "[CV 4/5] END C=0.1, penalty=l1, solver=liblinear;, score=0.783 total time=   3.8s\n",
      "[CV 5/5] END C=0.1, penalty=l1, solver=liblinear;, score=0.790 total time=   3.4s\n",
      "[CV 1/5] END C=0.1, penalty=l2, solver=liblinear;, score=0.775 total time=  38.0s\n",
      "[CV 2/5] END C=0.1, penalty=l2, solver=liblinear;, score=0.725 total time=  35.9s\n",
      "[CV 3/5] END C=0.1, penalty=l2, solver=liblinear;, score=0.767 total time=  27.9s\n",
      "[CV 4/5] END C=0.1, penalty=l2, solver=liblinear;, score=0.692 total time=  31.4s\n",
      "[CV 5/5] END C=0.1, penalty=l2, solver=liblinear;, score=0.773 total time=  31.0s\n",
      "[CV 1/5] END C=1.0, penalty=l1, solver=liblinear;, score=0.800 total time=   4.0s\n",
      "[CV 2/5] END C=1.0, penalty=l1, solver=liblinear;, score=0.800 total time=   3.9s\n",
      "[CV 3/5] END C=1.0, penalty=l1, solver=liblinear;, score=0.783 total time=   3.7s\n",
      "[CV 4/5] END C=1.0, penalty=l1, solver=liblinear;, score=0.767 total time=   4.1s\n",
      "[CV 5/5] END C=1.0, penalty=l1, solver=liblinear;, score=0.815 total time=   4.8s\n",
      "[CV 1/5] END C=1.0, penalty=l2, solver=liblinear;, score=0.742 total time=  36.6s\n",
      "[CV 2/5] END C=1.0, penalty=l2, solver=liblinear;, score=0.733 total time=  40.1s\n",
      "[CV 3/5] END C=1.0, penalty=l2, solver=liblinear;, score=0.750 total time=  33.6s\n",
      "[CV 4/5] END C=1.0, penalty=l2, solver=liblinear;, score=0.700 total time=  37.6s\n",
      "[CV 5/5] END C=1.0, penalty=l2, solver=liblinear;, score=0.773 total time=  40.0s\n",
      "[CV 1/5] END C=10.0, penalty=l1, solver=liblinear;, score=0.775 total time=   4.1s\n",
      "[CV 2/5] END C=10.0, penalty=l1, solver=liblinear;, score=0.800 total time=   4.6s\n",
      "[CV 3/5] END C=10.0, penalty=l1, solver=liblinear;, score=0.800 total time=   5.1s\n",
      "[CV 4/5] END C=10.0, penalty=l1, solver=liblinear;, score=0.775 total time=   4.3s\n",
      "[CV 5/5] END C=10.0, penalty=l1, solver=liblinear;, score=0.782 total time=   4.2s\n",
      "[CV 1/5] END C=10.0, penalty=l2, solver=liblinear;, score=0.725 total time=  33.4s\n",
      "[CV 2/5] END C=10.0, penalty=l2, solver=liblinear;, score=0.708 total time=  34.7s\n",
      "[CV 3/5] END C=10.0, penalty=l2, solver=liblinear;, score=0.725 total time=  32.1s\n",
      "[CV 4/5] END C=10.0, penalty=l2, solver=liblinear;, score=0.692 total time=  32.5s\n",
      "[CV 5/5] END C=10.0, penalty=l2, solver=liblinear;, score=0.782 total time=  27.5s\n"
     ]
    },
    {
     "data": {
      "text/plain": [
       "GridSearchCV(estimator=LogisticRegression(random_state=0),\n",
       "             param_grid={'C': [0.01, 0.1, 1.0, 10.0], 'penalty': ['l1', 'l2'],\n",
       "                         'solver': ['liblinear']},\n",
       "             scoring='accuracy', verbose=3)"
      ]
     },
     "execution_count": 18,
     "metadata": {},
     "output_type": "execute_result"
    }
   ],
   "source": [
    "# Define parameter range ['liblinear', 'lbfgs', 'newton-cg']\n",
    "param_grid = {'penalty':  ['l1', 'l2'],\n",
    "              'C': [0.01, 0.1, 1.0, 10.0],  \n",
    "              'solver': ['liblinear']\n",
    "             }\n",
    "\n",
    "grid = GridSearchCV(LogisticRegression(random_state= 0), param_grid, scoring= 'accuracy', refit= True, verbose= 3)\n",
    "\n",
    "# Fit the model using grid search \n",
    "grid.fit(X_train, y_train) "
   ]
  },
  {
   "cell_type": "markdown",
   "metadata": {},
   "source": [
    "### 2. Logistic regression with Gaussian filter\n",
    "#### Assess the quality of the best model from Gridsearch"
   ]
  },
  {
   "cell_type": "code",
   "execution_count": 19,
   "metadata": {},
   "outputs": [
    {
     "name": "stdout",
     "output_type": "stream",
     "text": [
      "Best model parameters:  {'C': 1.0, 'penalty': 'l1', 'solver': 'liblinear'}\n",
      "Model accuracy on training data: 1.00 \n",
      "Model accuracy on test data: 0.78 \n",
      "\n",
      "Classification report:\n",
      "               precision    recall  f1-score   support\n",
      "\n",
      "           0       0.80      0.77      0.78       132\n",
      "           1       0.77      0.79      0.78       126\n",
      "\n",
      "    accuracy                           0.78       258\n",
      "   macro avg       0.78      0.78      0.78       258\n",
      "weighted avg       0.78      0.78      0.78       258\n",
      " \n",
      "Confusion matrix:\n",
      " [[102  30]\n",
      " [ 26 100]]\n",
      "\n"
     ]
    },
    {
     "data": {
      "image/png": "[encoded data removed]",
      "text/plain": [
       "<Figure size 432x432 with 1 Axes>"
      ]
     },
     "metadata": {
      "needs_background": "light"
     },
     "output_type": "display_data"
    },
    {
     "data": {
      "image/png": "[encoded data removed]",
      "text/plain": [
       "<Figure size 460.8x460.8 with 1 Axes>"
      ]
     },
     "metadata": {
      "needs_background": "light"
     },
     "output_type": "display_data"
    }
   ],
   "source": [
    "# Print best parameter after tuning \n",
    "print(\"Best model parameters: \", grid.best_params_)\n",
    "model_best = grid.best_estimator_\n",
    "# Assess model quality\n",
    "model_quality(model_best, X_train, X_test, y_train, y_test)"
   ]
  },
  {
   "cell_type": "markdown",
   "metadata": {},
   "source": [
    "### 3. Logistic regression with Sobel filter"
   ]
  },
  {
   "cell_type": "code",
   "execution_count": 26,
   "metadata": {},
   "outputs": [
    {
     "name": "stdout",
     "output_type": "stream",
     "text": [
      "X_train:  [ndim, shape, dtype, min, max]: [2, (599, 65536), float32, -4.212825298309326, 9.303208351135254]\n",
      "X_test:  [ndim, shape, dtype, min, max]: [2, (258, 65536), float32, -3.7959251403808594, 10.323933601379395]\n",
      "X_train:  [ndim, shape, dtype, min, max]: [2, (599, 65536), float32, -316.386962890625, 352.9114074707031]\n",
      "X_test:  [ndim, shape, dtype, min, max]: [2, (258, 65536), float32, -320.43414306640625, 300.7257385253906]\n"
     ]
    }
   ],
   "source": [
    "# Apply Sobel filter to X_train and X_test\n",
    "X_train, X_test = X_train_orig.copy(), X_test_orig.copy()\n",
    "print_ndarray_info(X_train, \"X_train: \")\n",
    "print_ndarray_info(X_test, \"X_test: \")\n",
    "\n",
    "nsamples, nfeatures = X_train.shape\n",
    "for isample in range(0, nsamples):\n",
    "    img = X_train[isample,:].reshape((img_res, img_res))\n",
    "    X_train[isample,:] = cv2.Sobel(img, ddepth= cv2.CV_32F, dx= 0, dy= 1, ksize= 5).reshape((1, -1))\n",
    "\n",
    "nsamples, nfeatures = X_test.shape\n",
    "for isample in range(0, nsamples):\n",
    "    img = X_test[isample,:].reshape((img_res, img_res))\n",
    "    X_test[isample,:] = cv2.Sobel(img, ddepth= cv2.CV_32F, dx= 0, dy= 1, ksize= 5).reshape((1, -1))\n",
    "\n",
    "print_ndarray_info(X_train, \"X_train: \")\n",
    "print_ndarray_info(X_test, \"X_test: \")"
   ]
  },
  {
   "cell_type": "markdown",
   "metadata": {},
   "source": [
    "### 3. Logistic regression with Sobel filter\n",
    "#### Fine tune Logistic regression with Sobel filter using Gridsearch"
   ]
  },
  {
   "cell_type": "code",
   "execution_count": 27,
   "metadata": {},
   "outputs": [
    {
     "name": "stdout",
     "output_type": "stream",
     "text": [
      "Fitting 5 folds for each of 8 candidates, totalling 40 fits\n",
      "[CV 1/5] END C=0.01, penalty=l1, solver=liblinear;, score=0.683 total time=   2.2s\n",
      "[CV 2/5] END C=0.01, penalty=l1, solver=liblinear;, score=0.683 total time=   2.7s\n",
      "[CV 3/5] END C=0.01, penalty=l1, solver=liblinear;, score=0.583 total time=   4.0s\n",
      "[CV 4/5] END C=0.01, penalty=l1, solver=liblinear;, score=0.617 total time=   5.0s\n",
      "[CV 5/5] END C=0.01, penalty=l1, solver=liblinear;, score=0.672 total time=   4.3s\n",
      "[CV 1/5] END C=0.01, penalty=l2, solver=liblinear;, score=0.725 total time=  15.5s\n",
      "[CV 2/5] END C=0.01, penalty=l2, solver=liblinear;, score=0.742 total time=  15.5s\n",
      "[CV 3/5] END C=0.01, penalty=l2, solver=liblinear;, score=0.600 total time=  13.6s\n",
      "[CV 4/5] END C=0.01, penalty=l2, solver=liblinear;, score=0.617 total time=  16.0s\n",
      "[CV 5/5] END C=0.01, penalty=l2, solver=liblinear;, score=0.748 total time=  16.9s\n",
      "[CV 1/5] END C=0.1, penalty=l1, solver=liblinear;, score=0.692 total time=   4.1s\n",
      "[CV 2/5] END C=0.1, penalty=l1, solver=liblinear;, score=0.692 total time=   3.8s\n",
      "[CV 3/5] END C=0.1, penalty=l1, solver=liblinear;, score=0.583 total time=   2.7s\n",
      "[CV 4/5] END C=0.1, penalty=l1, solver=liblinear;, score=0.633 total time=   3.2s\n",
      "[CV 5/5] END C=0.1, penalty=l1, solver=liblinear;, score=0.639 total time=   3.7s\n",
      "[CV 1/5] END C=0.1, penalty=l2, solver=liblinear;, score=0.717 total time=  16.0s\n",
      "[CV 2/5] END C=0.1, penalty=l2, solver=liblinear;, score=0.742 total time=  14.8s\n",
      "[CV 3/5] END C=0.1, penalty=l2, solver=liblinear;, score=0.600 total time=  12.0s\n",
      "[CV 4/5] END C=0.1, penalty=l2, solver=liblinear;, score=0.600 total time=  11.1s\n",
      "[CV 5/5] END C=0.1, penalty=l2, solver=liblinear;, score=0.748 total time=  12.3s\n",
      "[CV 1/5] END C=1.0, penalty=l1, solver=liblinear;, score=0.675 total time=   2.7s\n",
      "[CV 2/5] END C=1.0, penalty=l1, solver=liblinear;, score=0.633 total time=   3.5s\n",
      "[CV 3/5] END C=1.0, penalty=l1, solver=liblinear;, score=0.600 total time=   3.6s\n",
      "[CV 4/5] END C=1.0, penalty=l1, solver=liblinear;, score=0.667 total time=   3.6s\n",
      "[CV 5/5] END C=1.0, penalty=l1, solver=liblinear;, score=0.672 total time=   3.8s\n",
      "[CV 1/5] END C=1.0, penalty=l2, solver=liblinear;, score=0.717 total time=  15.2s\n",
      "[CV 2/5] END C=1.0, penalty=l2, solver=liblinear;, score=0.742 total time=  12.5s\n",
      "[CV 3/5] END C=1.0, penalty=l2, solver=liblinear;, score=0.600 total time=  14.5s\n",
      "[CV 4/5] END C=1.0, penalty=l2, solver=liblinear;, score=0.592 total time=  15.8s\n",
      "[CV 5/5] END C=1.0, penalty=l2, solver=liblinear;, score=0.748 total time=  14.4s\n",
      "[CV 1/5] END C=10.0, penalty=l1, solver=liblinear;, score=0.692 total time=   4.7s\n",
      "[CV 2/5] END C=10.0, penalty=l1, solver=liblinear;, score=0.675 total time=   3.8s\n",
      "[CV 3/5] END C=10.0, penalty=l1, solver=liblinear;, score=0.625 total time=   5.3s\n",
      "[CV 4/5] END C=10.0, penalty=l1, solver=liblinear;, score=0.633 total time=   3.9s\n",
      "[CV 5/5] END C=10.0, penalty=l1, solver=liblinear;, score=0.689 total time=   4.1s\n",
      "[CV 1/5] END C=10.0, penalty=l2, solver=liblinear;, score=0.717 total time=  16.9s\n",
      "[CV 2/5] END C=10.0, penalty=l2, solver=liblinear;, score=0.742 total time=  15.2s\n",
      "[CV 3/5] END C=10.0, penalty=l2, solver=liblinear;, score=0.600 total time=  15.9s\n",
      "[CV 4/5] END C=10.0, penalty=l2, solver=liblinear;, score=0.592 total time=  15.3s\n",
      "[CV 5/5] END C=10.0, penalty=l2, solver=liblinear;, score=0.748 total time=  15.6s\n"
     ]
    },
    {
     "data": {
      "text/plain": [
       "GridSearchCV(estimator=LogisticRegression(random_state=0),\n",
       "             param_grid={'C': [0.01, 0.1, 1.0, 10.0], 'penalty': ['l1', 'l2'],\n",
       "                         'solver': ['liblinear']},\n",
       "             scoring='accuracy', verbose=3)"
      ]
     },
     "execution_count": 27,
     "metadata": {},
     "output_type": "execute_result"
    }
   ],
   "source": [
    "# Define parameter range ['liblinear', 'lbfgs', 'newton-cg']\n",
    "param_grid = {'penalty':  ['l1', 'l2'],\n",
    "              'C': [0.01, 0.1, 1.0, 10.0],  \n",
    "              'solver': ['liblinear']\n",
    "             }\n",
    "\n",
    "grid = GridSearchCV(LogisticRegression(random_state= 0), param_grid, scoring= 'accuracy', refit= True, verbose= 3)\n",
    "\n",
    "# Fit the model using grid search \n",
    "grid.fit(X_train, y_train) "
   ]
  },
  {
   "cell_type": "markdown",
   "metadata": {},
   "source": [
    "### 3. Logistic regression with Sobel filter\n",
    "#### Assess the quality of the best model from Gridsearch"
   ]
  },
  {
   "cell_type": "code",
   "execution_count": 28,
   "metadata": {},
   "outputs": [
    {
     "name": "stdout",
     "output_type": "stream",
     "text": [
      "Best model parameters:  {'C': 0.01, 'penalty': 'l2', 'solver': 'liblinear'}\n",
      "Model accuracy on training data: 1.00 \n",
      "Model accuracy on test data: 0.64 \n",
      "\n",
      "Classification report:\n",
      "               precision    recall  f1-score   support\n",
      "\n",
      "           0       0.67      0.59      0.63       132\n",
      "           1       0.62      0.69      0.65       126\n",
      "\n",
      "    accuracy                           0.64       258\n",
      "   macro avg       0.64      0.64      0.64       258\n",
      "weighted avg       0.64      0.64      0.64       258\n",
      " \n",
      "Confusion matrix:\n",
      " [[78 54]\n",
      " [39 87]]\n",
      "\n"
     ]
    },
    {
     "data": {
      "image/png": "[encoded data removed]",
      "text/plain": [
       "<Figure size 432x432 with 1 Axes>"
      ]
     },
     "metadata": {
      "needs_background": "light"
     },
     "output_type": "display_data"
    },
    {
     "data": {
      "image/png": "[encoded data removed]",
      "text/plain": [
       "<Figure size 460.8x460.8 with 1 Axes>"
      ]
     },
     "metadata": {
      "needs_background": "light"
     },
     "output_type": "display_data"
    }
   ],
   "source": [
    "# Print best parameter after tuning \n",
    "print(\"Best model parameters: \", grid.best_params_)\n",
    "model_best = grid.best_estimator_\n",
    "# Assess model quality\n",
    "model_quality(model_best, X_train, X_test, y_train, y_test)"
   ]
  },
  {
   "cell_type": "markdown",
   "metadata": {},
   "source": [
    "### 4. Logistic regression with PCA components as features"
   ]
  },
  {
   "cell_type": "code",
   "execution_count": 53,
   "metadata": {},
   "outputs": [
    {
     "name": "stdout",
     "output_type": "stream",
     "text": [
      "X_train:  [ndim, shape, dtype, min, max]: [2, (599, 65536), float32, -4.212825298309326, 9.303208351135254]\n",
      "X_test:  [ndim, shape, dtype, min, max]: [2, (258, 65536), float32, -3.7959251403808594, 10.323933601379395]\n",
      "X_train:  [ndim, shape, dtype, min, max]: [2, (599, 178), float32, -253.73468017578125, 349.9581298828125]\n",
      "X_test:  [ndim, shape, dtype, min, max]: [2, (258, 178), float32, -268.7984619140625, 339.2080078125]\n"
     ]
    }
   ],
   "source": [
    "# Apply PCA fit and transformation to X_train and PCA transform to X_test\n",
    "X_train, X_test = X_train_orig.copy(), X_test_orig.copy()\n",
    "print_ndarray_info(X_train, \"X_train: \")\n",
    "print_ndarray_info(X_test, \"X_test: \")\n",
    "\n",
    "pca = PCA(.90)\n",
    "pca.fit(X_train)\n",
    "X_train = pca.transform(X_train)\n",
    "X_test = pca.transform(X_test)\n",
    "\n",
    "print_ndarray_info(X_train, \"X_train: \")\n",
    "print_ndarray_info(X_test, \"X_test: \")"
   ]
  },
  {
   "cell_type": "markdown",
   "metadata": {},
   "source": [
    "### 4. Logistic regression with PCA components as features\n",
    "#### Fine tune Logistic regression with PCA components as features using Gridsearch"
   ]
  },
  {
   "cell_type": "code",
   "execution_count": 54,
   "metadata": {},
   "outputs": [
    {
     "name": "stdout",
     "output_type": "stream",
     "text": [
      "Fitting 5 folds for each of 12 candidates, totalling 60 fits\n",
      "[CV 1/5] END C=0.001, penalty=l1, solver=liblinear;, score=0.742 total time=   0.0s\n",
      "[CV 2/5] END C=0.001, penalty=l1, solver=liblinear;, score=0.725 total time=   0.0s\n",
      "[CV 3/5] END C=0.001, penalty=l1, solver=liblinear;, score=0.667 total time=   0.0s\n",
      "[CV 4/5] END C=0.001, penalty=l1, solver=liblinear;, score=0.675 total time=   0.0s\n",
      "[CV 5/5] END C=0.001, penalty=l1, solver=liblinear;, score=0.731 total time=   0.0s\n",
      "[CV 1/5] END C=0.001, penalty=l2, solver=liblinear;, score=0.775 total time=   0.0s\n",
      "[CV 2/5] END C=0.001, penalty=l2, solver=liblinear;, score=0.692 total time=   0.0s\n",
      "[CV 3/5] END C=0.001, penalty=l2, solver=liblinear;, score=0.708 total time=   0.0s\n",
      "[CV 4/5] END C=0.001, penalty=l2, solver=liblinear;, score=0.733 total time=   0.0s\n",
      "[CV 5/5] END C=0.001, penalty=l2, solver=liblinear;, score=0.765 total time=   0.0s\n",
      "[CV 1/5] END C=0.005, penalty=l1, solver=liblinear;, score=0.783 total time=   0.0s\n",
      "[CV 2/5] END C=0.005, penalty=l1, solver=liblinear;, score=0.800 total time=   0.0s\n",
      "[CV 3/5] END C=0.005, penalty=l1, solver=liblinear;, score=0.725 total time=   0.0s\n",
      "[CV 4/5] END C=0.005, penalty=l1, solver=liblinear;, score=0.742 total time=   0.0s\n",
      "[CV 5/5] END C=0.005, penalty=l1, solver=liblinear;, score=0.748 total time=   0.0s\n",
      "[CV 1/5] END C=0.005, penalty=l2, solver=liblinear;, score=0.733 total time=   0.0s\n",
      "[CV 2/5] END C=0.005, penalty=l2, solver=liblinear;, score=0.683 total time=   0.0s\n",
      "[CV 3/5] END C=0.005, penalty=l2, solver=liblinear;, score=0.675 total time=   0.0s\n",
      "[CV 4/5] END C=0.005, penalty=l2, solver=liblinear;, score=0.733 total time=   0.1s\n",
      "[CV 5/5] END C=0.005, penalty=l2, solver=liblinear;, score=0.723 total time=   0.0s\n",
      "[CV 1/5] END C=0.01, penalty=l1, solver=liblinear;, score=0.775 total time=   0.0s\n",
      "[CV 2/5] END C=0.01, penalty=l1, solver=liblinear;, score=0.767 total time=   0.0s\n",
      "[CV 3/5] END C=0.01, penalty=l1, solver=liblinear;, score=0.742 total time=   0.0s\n",
      "[CV 4/5] END C=0.01, penalty=l1, solver=liblinear;, score=0.717 total time=   0.0s\n",
      "[CV 5/5] END C=0.01, penalty=l1, solver=liblinear;, score=0.731 total time=   0.0s\n",
      "[CV 1/5] END C=0.01, penalty=l2, solver=liblinear;, score=0.725 total time=   0.0s\n",
      "[CV 2/5] END C=0.01, penalty=l2, solver=liblinear;, score=0.700 total time=   0.0s\n",
      "[CV 3/5] END C=0.01, penalty=l2, solver=liblinear;, score=0.658 total time=   0.0s\n",
      "[CV 4/5] END C=0.01, penalty=l2, solver=liblinear;, score=0.733 total time=   0.0s\n",
      "[CV 5/5] END C=0.01, penalty=l2, solver=liblinear;, score=0.689 total time=   0.0s\n",
      "[CV 1/5] END C=0.05, penalty=l1, solver=liblinear;, score=0.750 total time=   0.0s\n",
      "[CV 2/5] END C=0.05, penalty=l1, solver=liblinear;, score=0.750 total time=   0.0s\n",
      "[CV 3/5] END C=0.05, penalty=l1, solver=liblinear;, score=0.733 total time=   0.0s\n",
      "[CV 4/5] END C=0.05, penalty=l1, solver=liblinear;, score=0.767 total time=   0.0s\n",
      "[CV 5/5] END C=0.05, penalty=l1, solver=liblinear;, score=0.731 total time=   0.0s\n",
      "[CV 1/5] END C=0.05, penalty=l2, solver=liblinear;, score=0.717 total time=   0.1s\n",
      "[CV 2/5] END C=0.05, penalty=l2, solver=liblinear;, score=0.667 total time=   0.0s\n",
      "[CV 3/5] END C=0.05, penalty=l2, solver=liblinear;, score=0.650 total time=   0.0s\n",
      "[CV 4/5] END C=0.05, penalty=l2, solver=liblinear;, score=0.658 total time=   0.1s\n",
      "[CV 5/5] END C=0.05, penalty=l2, solver=liblinear;, score=0.664 total time=   0.0s\n",
      "[CV 1/5] END C=0.1, penalty=l1, solver=liblinear;, score=0.725 total time=   0.0s\n",
      "[CV 2/5] END C=0.1, penalty=l1, solver=liblinear;, score=0.742 total time=   0.0s\n",
      "[CV 3/5] END C=0.1, penalty=l1, solver=liblinear;, score=0.675 total time=   0.0s\n",
      "[CV 4/5] END C=0.1, penalty=l1, solver=liblinear;, score=0.742 total time=   0.0s\n",
      "[CV 5/5] END C=0.1, penalty=l1, solver=liblinear;, score=0.697 total time=   0.0s\n",
      "[CV 1/5] END C=0.1, penalty=l2, solver=liblinear;, score=0.700 total time=   0.1s\n",
      "[CV 2/5] END C=0.1, penalty=l2, solver=liblinear;, score=0.642 total time=   0.1s\n",
      "[CV 3/5] END C=0.1, penalty=l2, solver=liblinear;, score=0.667 total time=   0.0s\n",
      "[CV 4/5] END C=0.1, penalty=l2, solver=liblinear;, score=0.658 total time=   0.1s\n",
      "[CV 5/5] END C=0.1, penalty=l2, solver=liblinear;, score=0.672 total time=   0.0s\n",
      "[CV 1/5] END C=1.0, penalty=l1, solver=liblinear;, score=0.675 total time=   0.2s\n",
      "[CV 2/5] END C=1.0, penalty=l1, solver=liblinear;, score=0.625 total time=   0.3s\n",
      "[CV 3/5] END C=1.0, penalty=l1, solver=liblinear;, score=0.675 total time=   0.2s\n",
      "[CV 4/5] END C=1.0, penalty=l1, solver=liblinear;, score=0.650 total time=   0.5s\n",
      "[CV 5/5] END C=1.0, penalty=l1, solver=liblinear;, score=0.664 total time=   0.2s\n",
      "[CV 1/5] END C=1.0, penalty=l2, solver=liblinear;, score=0.683 total time=   0.2s\n",
      "[CV 2/5] END C=1.0, penalty=l2, solver=liblinear;, score=0.633 total time=   0.1s\n",
      "[CV 3/5] END C=1.0, penalty=l2, solver=liblinear;, score=0.658 total time=   0.1s\n",
      "[CV 4/5] END C=1.0, penalty=l2, solver=liblinear;, score=0.625 total time=   0.2s\n",
      "[CV 5/5] END C=1.0, penalty=l2, solver=liblinear;, score=0.664 total time=   0.1s\n"
     ]
    },
    {
     "data": {
      "text/plain": [
       "GridSearchCV(estimator=LogisticRegression(random_state=0),\n",
       "             param_grid={'C': [0.001, 0.005, 0.01, 0.05, 0.1, 1.0],\n",
       "                         'penalty': ['l1', 'l2'], 'solver': ['liblinear']},\n",
       "             scoring='accuracy', verbose=3)"
      ]
     },
     "execution_count": 54,
     "metadata": {},
     "output_type": "execute_result"
    }
   ],
   "source": [
    "# Define parameter range ['liblinear', 'lbfgs', 'newton-cg']\n",
    "param_grid = {'penalty':  ['l1', 'l2'],\n",
    "              'C': [0.001, .005, 0.01, 0.05, 0.1, 1.0],  \n",
    "              'solver': ['liblinear']\n",
    "             }\n",
    "\n",
    "grid = GridSearchCV(LogisticRegression(random_state= 0), param_grid, scoring= 'accuracy', refit= True, verbose= 3)\n",
    "\n",
    "# Fit the model using grid search \n",
    "grid.fit(X_train, y_train) "
   ]
  },
  {
   "cell_type": "markdown",
   "metadata": {},
   "source": [
    "### 4. Logistic regression with PCA components as features\n",
    "#### Assess the quality of the best model from Gridsearch"
   ]
  },
  {
   "cell_type": "code",
   "execution_count": 55,
   "metadata": {},
   "outputs": [
    {
     "name": "stdout",
     "output_type": "stream",
     "text": [
      "Best model parameters:  {'C': 0.005, 'penalty': 'l1', 'solver': 'liblinear'}\n",
      "Model accuracy on training data: 0.80 \n",
      "Model accuracy on test data: 0.73 \n",
      "\n",
      "Classification report:\n",
      "               precision    recall  f1-score   support\n",
      "\n",
      "           0       0.74      0.73      0.74       132\n",
      "           1       0.72      0.74      0.73       126\n",
      "\n",
      "    accuracy                           0.73       258\n",
      "   macro avg       0.73      0.73      0.73       258\n",
      "weighted avg       0.73      0.73      0.73       258\n",
      " \n",
      "Confusion matrix:\n",
      " [[96 36]\n",
      " [33 93]]\n",
      "\n"
     ]
    },
    {
     "data": {
      "image/png": "[encoded data removed]",
      "text/plain": [
       "<Figure size 432x432 with 1 Axes>"
      ]
     },
     "metadata": {
      "needs_background": "light"
     },
     "output_type": "display_data"
    },
    {
     "data": {
      "image/png": "[encoded data removed]",
      "text/plain": [
       "<Figure size 460.8x460.8 with 1 Axes>"
      ]
     },
     "metadata": {
      "needs_background": "light"
     },
     "output_type": "display_data"
    }
   ],
   "source": [
    "# Print best parameter after tuning \n",
    "print(\"Best model parameters: \", grid.best_params_)\n",
    "model_best = grid.best_estimator_\n",
    "# Assess model quality\n",
    "model_quality(model_best, X_train, X_test, y_train, y_test)"
   ]
  }
 ],
 "metadata": {
  "kernelspec": {
   "display_name": "Python 3.9.7 ('base')",
   "language": "python",
   "name": "python3"
  },
  "language_info": {
   "codemirror_mode": {
    "name": "ipython",
    "version": 3
   },
   "file_extension": ".py",
   "mimetype": "text/x-python",
   "name": "python",
   "nbconvert_exporter": "python",
   "pygments_lexer": "ipython3",
   "version": "3.9.7"
  },
  "orig_nbformat": 4,
  "vscode": {
   "interpreter": {
    "hash": "bbb2307e17ea36bb17521abc68671a87486d60f5db5f8ffac2e3b843695dd9f9"
   }
  }
 },
 "nbformat": 4,
 "nbformat_minor": 2
}
