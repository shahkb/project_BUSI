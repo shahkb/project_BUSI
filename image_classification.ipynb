{
 "cells": [
  {
   "cell_type": "markdown",
   "metadata": {},
   "source": [
    "# Image classification of Breast Ultra Sound Images\n",
    "\n",
    "Here we experiment with classical algorithms such as Logistic Regression, SVM and Bag of Visual words\n"
   ]
  },
  {
   "cell_type": "markdown",
   "metadata": {},
   "source": [
    "### Import packages"
   ]
  },
  {
   "cell_type": "code",
   "execution_count": 111,
   "metadata": {},
   "outputs": [],
   "source": [
    "import os\n",
    "import re\n",
    "import random\n",
    "from pathlib import Path\n",
    "from pprint import pprint\n",
    "\n",
    "import numpy as np\n",
    "import pandas as pd\n",
    "import matplotlib.pyplot as plt\n",
    "import cv2\n",
    "\n",
    "from sklearn.decomposition import PCA\n",
    "\n",
    "from utils import init_img_dict, get_file_dicts, filter_files, find_mask, print_ndarray_info\n",
    "from utils import img_read, img_write, img_resize, img_flip, comp_fft, histogram_equalization\n",
    "from utils import display_img, display_img_list_3, display_3_imgs, display_3_hist, resize_imgs, flip_imgs, append_img_data\n",
    "\n",
    "from sklearn.utils import shuffle\n",
    "from sklearn.model_selection import train_test_split\n",
    "from sklearn.linear_model import LogisticRegression\n",
    "from sklearn.metrics import accuracy_score, roc_curve, roc_auc_score, classification_report, confusion_matrix \n",
    "from sklearn.preprocessing import StandardScaler"
   ]
  },
  {
   "cell_type": "markdown",
   "metadata": {},
   "source": [
    "### Functions to assess model quality and to plot confusion matrix, ROC etc."
   ]
  },
  {
   "cell_type": "code",
   "execution_count": 112,
   "metadata": {},
   "outputs": [],
   "source": [
    "# Plot confusion matrix (binary)\n",
    "def plot_cm(cm):\n",
    "    \n",
    "    fig, ax = plt.subplots(figsize=(6, 6))\n",
    "    ax.imshow(cm)\n",
    "    ax.grid(False)\n",
    "    ax.xaxis.set(ticks=(0, 1), ticklabels=('Predicted 0s', 'Predicted 1s'))\n",
    "    ax.yaxis.set(ticks=(0, 1), ticklabels=('Actual 0s', 'Actual 1s'))\n",
    "    ax.set_ylim(1.5, -0.5)\n",
    "    for i in range(2):\n",
    "        for j in range(2):\n",
    "            ax.text(j, i, cm[i, j], ha='center', va='center', color='red')\n",
    "    plt.title(\"Confusion matrix\")\n",
    "    plt.show()\n",
    "    \n",
    "\n",
    "# Plot ROC\n",
    "def plot_ROC(fpr, tpr, auc):\n",
    "\n",
    "    plt.figure(figsize = (6.4, 6.4))\n",
    "    plt.plot(fpr, tpr, label= f\"ROC, auc= {auc:.2f}\")\n",
    "    plt.title(\"ROC curve\")\n",
    "    plt.legend(loc=4)\n",
    "    plt.show()\n",
    "    \n",
    "\n",
    "# To assess model quality analysis\n",
    "def model_quality(model, X_train, X_test, y_train, y_test):\n",
    "\n",
    "    # Accuracy\n",
    "    print(f\"Model accuracy on training data: {model.score(X_train, y_train):.2f} \")\n",
    "    print(f\"Model accuracy on test data: {model.score(X_test, y_test):.2f} \")\n",
    "\n",
    "    # Classification report (precision, recall, f1 score)\n",
    "    print(f\"\\nClassification report:\\n {classification_report(y_test, model.predict(X_test))} \")\n",
    "\n",
    "    # Confusion matrix\n",
    "    cm = confusion_matrix(y_test, model.predict(X_test))\n",
    "    print(f\"Confusion matrix:\\n {cm}\\n\")\n",
    "    plot_cm(cm)\n",
    "\n",
    "    # ROC curve\n",
    "    y_pred_proba = model.predict_proba(X_test)[::,1]\n",
    "    fpr, tpr, _ = roc_curve(y_test,  y_pred_proba)\n",
    "    auc = roc_auc_score(y_test, y_pred_proba)\n",
    "    plot_ROC(fpr, tpr, auc)\n",
    "\n",
    "# Get indices for True positives, True negatives, False positives and False negatives\n",
    "def get_indices(model, X, y):\n",
    "\n",
    "    y_pred = model.predict(X)\n",
    "    tp_index = np.argwhere( (y == 1) & (y_pred == 1))\n",
    "    tn_index = np.argwhere( (y == 0) & (y_pred == 0))\n",
    "    fp_index = np.argwhere( (y == 0) & (y_pred == 1))\n",
    "    fn_index = np.argwhere( (y == 1) & (y_pred == 0))\n",
    "\n",
    "    return (tp_index, tn_index, fp_index, fn_index)\n"
   ]
  },
  {
   "cell_type": "markdown",
   "metadata": {},
   "source": [
    "## Read image list (with dict object for each image) for the 2 classes (Benign and Malignant)\n",
    " - Read benign and malignant dataset into a list"
   ]
  },
  {
   "cell_type": "code",
   "execution_count": 113,
   "metadata": {},
   "outputs": [
    {
     "name": "stdout",
     "output_type": "stream",
     "text": [
      "Number of images in benign dataset: 437\n",
      "Number of images in malignant dataset: 420\n"
     ]
    }
   ],
   "source": [
    "img_res = 256\n",
    "\n",
    "benign_img_dir = './Dataset_BUSI_with_GT/benign_256'\n",
    "malignant_img_dir = './Dataset_BUSI_with_GT/malignant_256'\n",
    "\n",
    "# Get a list of all images in a image directory\n",
    "benign_img_list_all = get_file_dicts(benign_img_dir)\n",
    "num_benign_img = len(benign_img_list_all)\n",
    "print(f\"Number of images in benign dataset: {num_benign_img}\")\n",
    "\n",
    "malignant_img_list_all = get_file_dicts(malignant_img_dir)\n",
    "num_malignant_img = len(malignant_img_list_all)\n",
    "print(f\"Number of images in malignant dataset: {num_malignant_img}\")"
   ]
  },
  {
   "cell_type": "markdown",
   "metadata": {},
   "source": [
    "## Prepare data for classification\n",
    " - Assemble feature data (pixels) and target data (0 for benign and 1 for malignant)\n",
    " - Shuffle the data\n",
    " - Split data in to training and test (70-30) set\n",
    " - Scale the data (use Standard scaler)"
   ]
  },
  {
   "cell_type": "code",
   "execution_count": 114,
   "metadata": {},
   "outputs": [
    {
     "name": "stdout",
     "output_type": "stream",
     "text": [
      "Image feature data - benign [ndim, shape, dtype, min, max]: [2, (437, 65536), float32, 0.0, 1.0]\n",
      "Image feature data - benign + malignant [ndim, shape, dtype, min, max]: [2, (857, 65536), float32, 0.0, 1.0]\n",
      "(857, 65536)\n",
      "(857,)\n"
     ]
    }
   ],
   "source": [
    "# Assemble feature and target data\n",
    "img_data = np.empty((0, img_res*img_res), np.float32)\n",
    "\n",
    "# Read and append images to img_data\n",
    "#img_list = malignant_img_list_all[0:3:2]\n",
    "img_list = benign_img_list_all + malignant_img_list_all\n",
    "img_data = append_img_data(img_list, img_data)\n",
    "print_ndarray_info(img_data, \"Image feature data - benign + malignant\")\n",
    "\n",
    "# Create labels - 0 for benign and 1 for malignant\n",
    "img_labels = np.array([0]*num_benign_img, dtype= np.int32)\n",
    "img_labels = np.append(img_labels, np.array([1]*num_malignant_img, dtype= np.int32))\n",
    "\n",
    "# Indices are used to recover images after shuffling\n",
    "# indices 0 to num_benign_img - 1 is from benign and rest for malignant\n",
    "indices = np.arange(0, num_benign_img + num_malignant_img, dtype= np.int32)\n",
    "\n",
    "X, y = img_data, img_labels\n",
    "\n",
    "print(img_data.shape)\n",
    "print(img_labels.shape)"
   ]
  },
  {
   "cell_type": "code",
   "execution_count": 115,
   "metadata": {},
   "outputs": [],
   "source": [
    "# Shuffle and split data (keep same proportions of positive and negative in training and test set)\n",
    "X_train, X_test, y_train, y_test, indices_train, indices_test = train_test_split(X, y, indices, test_size=0.3, random_state= 7, stratify= y)\n",
    "\n",
    "# Scale training data and transform the test data\n",
    "scaler = StandardScaler()\n",
    "X_train = scaler.fit_transform(X_train)\n",
    "X_test = scaler.transform(X_test)"
   ]
  },
  {
   "cell_type": "markdown",
   "metadata": {},
   "source": [
    "### Logistic regression (Regularization strength (inverse)= 1.0)"
   ]
  },
  {
   "cell_type": "code",
   "execution_count": 116,
   "metadata": {},
   "outputs": [
    {
     "data": {
      "text/plain": [
       "LogisticRegression(random_state=0, solver='liblinear')"
      ]
     },
     "execution_count": 116,
     "metadata": {},
     "output_type": "execute_result"
    }
   ],
   "source": [
    "# Create a model and train\n",
    "# solver= 'liblinear' 'lbfgs'\n",
    "model = LogisticRegression(solver= 'liblinear', C= 1.0, random_state= 0)\n",
    "model.fit(X_train, y_train)"
   ]
  },
  {
   "cell_type": "code",
   "execution_count": 117,
   "metadata": {},
   "outputs": [
    {
     "name": "stdout",
     "output_type": "stream",
     "text": [
      "Model accuracy on training data: 1.00 \n",
      "Model accuracy on test data: 0.75 \n",
      "\n",
      "Classification report:\n",
      "               precision    recall  f1-score   support\n",
      "\n",
      "           0       0.77      0.72      0.75       132\n",
      "           1       0.73      0.78      0.75       126\n",
      "\n",
      "    accuracy                           0.75       258\n",
      "   macro avg       0.75      0.75      0.75       258\n",
      "weighted avg       0.75      0.75      0.75       258\n",
      " \n",
      "Confusion matrix:\n",
      " [[95 37]\n",
      " [28 98]]\n",
      "\n"
     ]
    },
    {
     "data": {
      "image/png": "[encoded data removed]",
      "text/plain": [
       "<Figure size 432x432 with 1 Axes>"
      ]
     },
     "metadata": {
      "needs_background": "light"
     },
     "output_type": "display_data"
    },
    {
     "data": {
      "image/png": "[encoded data removed]",
      "text/plain": [
       "<Figure size 460.8x460.8 with 1 Axes>"
      ]
     },
     "metadata": {
      "needs_background": "light"
     },
     "output_type": "display_data"
    }
   ],
   "source": [
    "# Assess model quality\n",
    "model_quality(model, X_train, X_test, y_train, y_test)"
   ]
  },
  {
   "cell_type": "markdown",
   "metadata": {},
   "source": [
    "### Logistic regression (Regularization strength (inverse) = 0.001)"
   ]
  },
  {
   "cell_type": "code",
   "execution_count": 118,
   "metadata": {},
   "outputs": [
    {
     "data": {
      "text/plain": [
       "LogisticRegression(C=0.001, random_state=0, solver='liblinear')"
      ]
     },
     "execution_count": 118,
     "metadata": {},
     "output_type": "execute_result"
    }
   ],
   "source": [
    "# Create a model and train\n",
    "model2 = LogisticRegression(solver= 'liblinear', C= 0.001, random_state= 0)\n",
    "model2.fit(X_train, y_train)"
   ]
  },
  {
   "cell_type": "code",
   "execution_count": 119,
   "metadata": {},
   "outputs": [
    {
     "name": "stdout",
     "output_type": "stream",
     "text": [
      "Model accuracy on training data: 1.00 \n",
      "Model accuracy on test data: 0.74 \n",
      "\n",
      "Classification report:\n",
      "               precision    recall  f1-score   support\n",
      "\n",
      "           0       0.75      0.74      0.75       132\n",
      "           1       0.73      0.75      0.74       126\n",
      "\n",
      "    accuracy                           0.74       258\n",
      "   macro avg       0.74      0.74      0.74       258\n",
      "weighted avg       0.74      0.74      0.74       258\n",
      " \n",
      "Confusion matrix:\n",
      " [[98 34]\n",
      " [32 94]]\n",
      "\n"
     ]
    },
    {
     "data": {
      "image/png": "[encoded data removed]",
      "text/plain": [
       "<Figure size 432x432 with 1 Axes>"
      ]
     },
     "metadata": {
      "needs_background": "light"
     },
     "output_type": "display_data"
    },
    {
     "data": {
      "image/png": "[encoded data removed]",
      "text/plain": [
       "<Figure size 460.8x460.8 with 1 Axes>"
      ]
     },
     "metadata": {
      "needs_background": "light"
     },
     "output_type": "display_data"
    }
   ],
   "source": [
    "# Assess model quality\n",
    "model_quality(model2, X_train, X_test, y_train, y_test)"
   ]
  },
  {
   "cell_type": "markdown",
   "metadata": {},
   "source": [
    "### Logistic regression (Regularization strength (inverse) = 10.0)"
   ]
  },
  {
   "cell_type": "code",
   "execution_count": 120,
   "metadata": {},
   "outputs": [
    {
     "data": {
      "text/plain": [
       "LogisticRegression(C=10, random_state=0, solver='liblinear')"
      ]
     },
     "execution_count": 120,
     "metadata": {},
     "output_type": "execute_result"
    }
   ],
   "source": [
    "# Create a model and train\n",
    "model3 = LogisticRegression(solver= 'liblinear', C= 10, random_state= 0)\n",
    "model3.fit(X_train, y_train)"
   ]
  },
  {
   "cell_type": "code",
   "execution_count": 121,
   "metadata": {},
   "outputs": [
    {
     "name": "stdout",
     "output_type": "stream",
     "text": [
      "Model accuracy on training data: 1.00 \n",
      "Model accuracy on test data: 0.75 \n",
      "\n",
      "Classification report:\n",
      "               precision    recall  f1-score   support\n",
      "\n",
      "           0       0.77      0.73      0.75       132\n",
      "           1       0.73      0.78      0.75       126\n",
      "\n",
      "    accuracy                           0.75       258\n",
      "   macro avg       0.75      0.75      0.75       258\n",
      "weighted avg       0.75      0.75      0.75       258\n",
      " \n",
      "Confusion matrix:\n",
      " [[96 36]\n",
      " [28 98]]\n",
      "\n"
     ]
    },
    {
     "data": {
      "image/png": "[encoded data removed]",
      "text/plain": [
       "<Figure size 432x432 with 1 Axes>"
      ]
     },
     "metadata": {
      "needs_background": "light"
     },
     "output_type": "display_data"
    },
    {
     "data": {
      "image/png": "[encoded data removed]",
      "text/plain": [
       "<Figure size 460.8x460.8 with 1 Axes>"
      ]
     },
     "metadata": {
      "needs_background": "light"
     },
     "output_type": "display_data"
    }
   ],
   "source": [
    "# Assess model quality\n",
    "model_quality(model3, X_train, X_test, y_train, y_test)"
   ]
  },
  {
   "cell_type": "code",
   "execution_count": 122,
   "metadata": {},
   "outputs": [
    {
     "name": "stdout",
     "output_type": "stream",
     "text": [
      "Indices:  [ndim, shape, dtype, min, max]: [1, (857,), int32, 0, 856]\n",
      "Indices train:  [ndim, shape, dtype, min, max]: [1, (599,), int32, 1, 856]\n",
      "Indices test:  [ndim, shape, dtype, min, max]: [1, (258,), int32, 0, 853]\n"
     ]
    }
   ],
   "source": [
    "# Show a few sample images from true positive, true negative, false positive and false negative\n",
    "# Misclassified images: false positive and false negative\n",
    "print_ndarray_info(indices, \"Indices: \")\n",
    "print_ndarray_info(indices_train, \"Indices train: \")\n",
    "print_ndarray_info(indices_test, \"Indices test: \")\n",
    "(tp_index, tn_index, fp_index, fn_index) = get_indices(model2, X_test, y_test)\n",
    "\n",
    "# tp_index must be from malignant cases, tn_index from benign cases\n",
    "# fp_index must be from benign and fn_index from malignant\n",
    "# indices 0 to num_benign_img - 1 is from benign_img_list_all\n",
    "# indices from num_benign_img to num_benign_img + num_malignant_img - 1 is from malignant_img_list_all\n",
    "#print(num_benign_img)\n",
    "#print(num_malignant_img)\n",
    "#print(fp_index)\n",
    "#print(fn_index)\n",
    "\n",
    "#print(indices_test[fp_index])\n",
    "#print(indices_test[fn_index] - num_benign_img)"
   ]
  }
 ],
 "metadata": {
  "kernelspec": {
   "display_name": "Python 3.9.7 ('base')",
   "language": "python",
   "name": "python3"
  },
  "language_info": {
   "codemirror_mode": {
    "name": "ipython",
    "version": 3
   },
   "file_extension": ".py",
   "mimetype": "text/x-python",
   "name": "python",
   "nbconvert_exporter": "python",
   "pygments_lexer": "ipython3",
   "version": "3.9.7"
  },
  "orig_nbformat": 4,
  "vscode": {
   "interpreter": {
    "hash": "bbb2307e17ea36bb17521abc68671a87486d60f5db5f8ffac2e3b843695dd9f9"
   }
  }
 },
 "nbformat": 4,
 "nbformat_minor": 2
}
