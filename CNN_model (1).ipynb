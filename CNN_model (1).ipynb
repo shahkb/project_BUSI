{
 "cells": [
  {
   "cell_type": "markdown",
   "metadata": {},
   "source": [
    "# Image classification of Breast Ultra Sound Images\n",
    "\n",
    "Here we experiment with deep learning algorithms - CNN\n"
   ]
  },
  {
   "cell_type": "markdown",
   "metadata": {},
   "source": [
    "### Import packages"
   ]
  },
  {
   "cell_type": "code",
   "execution_count": 1,
   "metadata": {},
   "outputs": [],
   "source": [
    "import os\n",
    "import re\n",
    "import random\n",
    "from pathlib import Path\n",
    "from pprint import pprint\n",
    "\n",
    "import numpy as np\n",
    "import pandas as pd\n",
    "import matplotlib.pyplot as plt\n",
    "import cv2\n",
    "\n",
    "from sklearn.model_selection import RandomizedSearchCV\n",
    "from utils import init_img_dict, get_file_dicts, filter_files, find_mask, print_ndarray_info\n",
    "from utils import img_read, img_write, img_resize, img_flip, comp_fft, histogram_equalization\n",
    "from utils import display_img, display_img_list_3, display_3_imgs, display_3_hist, resize_imgs, flip_imgs, append_img_data\n",
    "\n",
    "from sklearn.utils import shuffle\n",
    "from sklearn.model_selection import train_test_split\n",
    "from sklearn.linear_model import LogisticRegression\n",
    "from sklearn.metrics import accuracy_score, roc_curve, roc_auc_score, classification_report, confusion_matrix \n",
    "from sklearn.preprocessing import StandardScaler\n",
    "\n",
    "from sklearn.model_selection import GridSearchCV\n",
    "from scikeras.wrappers import KerasClassifier, KerasRegressor\n",
    "# import talos\n",
    "# from talos.utils import lr_normalizer"
   ]
  },
  {
   "cell_type": "code",
   "execution_count": 2,
   "metadata": {},
   "outputs": [],
   "source": [
    "import os\n",
    "import re\n",
    "import matplotlib.pyplot as plt\n",
    "import cv2\n",
    "import tensorflow as tf\n",
    "\n",
    "import sys\n",
    "import keras\n",
    "from tensorflow.keras.utils import to_categorical\n",
    "from keras.models import Sequential\n",
    "from keras.layers import Conv2D\n",
    "from keras.layers import MaxPooling2D\n",
    "from keras.layers import Dense\n",
    "from keras.layers import Flatten\n",
    "from tensorflow.keras.optimizers import SGD\n",
    "from tensorflow.keras.optimizers import Adam\n",
    "from tensorflow.keras.optimizers import Adagrad"
   ]
  },
  {
   "cell_type": "code",
   "execution_count": 3,
   "metadata": {},
   "outputs": [
    {
     "name": "stdout",
     "output_type": "stream",
     "text": [
      "/home/ec2-user/.conda/envs/jupyter/bin/python3.8\n",
      "3.8.13 | packaged by conda-forge | (default, Mar 25 2022, 06:04:10) \n",
      "[GCC 10.3.0]\n",
      "sys.version_info(major=3, minor=8, micro=13, releaselevel='final', serial=0)\n"
     ]
    }
   ],
   "source": [
    "import sys\n",
    "print(sys.executable)\n",
    "print(sys.version)\n",
    "print(sys.version_info)"
   ]
  },
  {
   "cell_type": "markdown",
   "metadata": {},
   "source": [
    "## Read image list (with dict object for each image) for the 2 classes (Benign and Malignant)\n",
    " - Read benign and malignant dataset into a list"
   ]
  },
  {
   "cell_type": "code",
   "execution_count": 5,
   "metadata": {},
   "outputs": [
    {
     "name": "stdout",
     "output_type": "stream",
     "text": [
      "Number of images in benign dataset: 437\n",
      "Number of images in malignant dataset: 420\n"
     ]
    }
   ],
   "source": [
    "img_res = 256\n",
    "\n",
    "benign_img_dir = './Dataset_BUSI_with_GT/benign_256'\n",
    "malignant_img_dir = './Dataset_BUSI_with_GT/malignant_256'\n",
    "\n",
    "# Get a list of images in the images directory\n",
    "benign_img_list_all = get_file_dicts(benign_img_dir)\n",
    "num_benign_img = len(benign_img_list_all)\n",
    "print(f\"Number of images in benign dataset: {num_benign_img}\")\n",
    "\n",
    "malignant_img_list_all = get_file_dicts(malignant_img_dir)\n",
    "num_malignant_img = len(malignant_img_list_all)\n",
    "print(f\"Number of images in malignant dataset: {num_malignant_img}\")"
   ]
  },
  {
   "cell_type": "markdown",
   "metadata": {},
   "source": [
    "## Prepare data for classification\n",
    " - Assemble feature data (pixels) and target data (0 for benign and 1 for malignant)\n",
    " - Shuffle the data\n",
    " - Split data in to training and test (70-30) set\n",
    " - Scale the data (use Standard scaler)"
   ]
  },
  {
   "cell_type": "code",
   "execution_count": 25,
   "metadata": {},
   "outputs": [],
   "source": [
    "def import_images(img_list, label):\n",
    "    images = []\n",
    "    masks = []\n",
    "    labels = []\n",
    "    for item in img_list:\n",
    "        img = cv2.imread(item['file_name_fullpath'], cv2.IMREAD_GRAYSCALE)\n",
    "        mask = cv2.imread(item['file_masks'][0], cv2.IMREAD_GRAYSCALE)\n",
    "        images.append(img)\n",
    "        masks.append(mask)\n",
    "        labels.append(label)\n",
    "    return images, masks, labels\n",
    "\n",
    "# normal_im, normal_mk, n_l = import_images(normal_img_list, 0)\n",
    "benign_im, benign_mk, b_l = import_images(benign_img_list_all, 0)\n",
    "malignant_im, malignant_mk, m_l = import_images(malignant_img_list_all, 1)\n",
    "\n",
    "X = benign_im + malignant_im\n",
    "L = b_l+m_l\n",
    "\n",
    "x_resize=[]\n",
    "img_size=256\n",
    "\n",
    "for x in X:\n",
    "    new_array = cv2.resize(x,(img_size,img_size))\n",
    "    x_resize.append(new_array)\n",
    "x_resize = np.array(x_resize)\n",
    "x_resize = x_resize.reshape(x_resize.shape[0], x_resize.shape[1], x_resize.shape[2], 1)\n",
    "\n",
    "from sklearn.model_selection import train_test_split\n",
    "X_train,X_test,y_train,y_test = train_test_split(x_resize,L, test_size=0.2, random_state= 7, stratify= L)\n",
    "X_test, X_val, y_test, y_val = train_test_split(X_test, y_test, test_size=0.5, random_state=7,  stratify= y_test) "
   ]
  },
  {
   "cell_type": "markdown",
   "metadata": {},
   "source": [
    "### CNN Model Set Up "
   ]
  },
  {
   "cell_type": "code",
   "execution_count": 7,
   "metadata": {},
   "outputs": [],
   "source": [
    "def create_model(opt = 'adam', learning_rate = .001):\n",
    "# Create a model and trin\n",
    "    model = tf.keras.Sequential()\n",
    "    \n",
    "    model.add(Conv2D(32, (3, 3), activation='relu', kernel_initializer='he_uniform', padding='same', input_shape=(256, 256,1)))\n",
    "    model.add(Conv2D(32, (3, 3), activation='relu', kernel_initializer='he_uniform', padding='same'))\n",
    "    model.add(Conv2D(32, (3, 3), activation='relu', kernel_initializer='he_uniform', padding='same'))\n",
    "    model.add(Conv2D(32, (3, 3), activation='relu', kernel_initializer='he_uniform', padding='same'))\n",
    "    model.add(MaxPooling2D((2, 2)))\n",
    "    model.add(Conv2D(32, (3, 3), activation='relu', kernel_initializer='he_uniform', padding='same'))\n",
    "    model.add(Conv2D(32, (3, 3), activation='relu', kernel_initializer='he_uniform', padding='same'))\n",
    "    model.add(Conv2D(32, (3, 3), activation='relu', kernel_initializer='he_uniform', padding='same'))\n",
    "    model.add(MaxPooling2D((2, 2)))\n",
    "    model.add(Conv2D(64, (3, 3), activation='relu', kernel_initializer='he_uniform', padding='same'))\n",
    "    model.add(Conv2D(64, (3, 3), activation='relu', kernel_initializer='he_uniform', padding='same'))\n",
    "    model.add(MaxPooling2D((2, 2)))\n",
    "    model.add(Conv2D(128, (3, 3), activation='relu', kernel_initializer='he_uniform', padding='same'))\n",
    "    model.add(Conv2D(128, (3, 3), activation='relu', kernel_initializer='he_uniform', padding='same'))\n",
    "    model.add(MaxPooling2D((2, 2)))\n",
    "    model.add(Flatten())\n",
    "    model.add(Dense(128, activation='relu', kernel_initializer='he_uniform'))\n",
    "    model.add(Dense(128, activation='relu', kernel_initializer='he_uniform'))\n",
    "    model.add(Dense(128, activation='relu', kernel_initializer='he_uniform'))\n",
    "    model.add(Dense(128, activation='relu', kernel_initializer='he_uniform'))\n",
    "    model.add(Dense(128, activation='relu', kernel_initializer='he_uniform'))\n",
    "    model.add(Dense(128, activation='relu', kernel_initializer='he_uniform'))\n",
    "    model.add(Dense(2, activation='softmax'))\n",
    "    if opt == 'adagrad':\n",
    "        opt = Adagrad(lr=learning_rate)\n",
    "    elif opt == 'adam':\n",
    "        opt = Adam(lr=learning_rate)\n",
    "    model.compile(optimizer = opt, loss='sparse_categorical_crossentropy', metrics=['accuracy'])\n",
    "    return model "
   ]
  },
  {
   "cell_type": "markdown",
   "metadata": {},
   "source": [
    "#### Hyperparameter Tuning - Grid Search Set Up"
   ]
  },
  {
   "cell_type": "markdown",
   "metadata": {},
   "source": [
    "We are running a Random grid search though the parameters below: batch size, optimizers, learning rate, and epochs. We decided to use a random grid search because studies have shown that it provides the same level of effectiveness as a regular gridsearch but it's less time consuming."
   ]
  },
  {
   "cell_type": "code",
   "execution_count": 8,
   "metadata": {},
   "outputs": [],
   "source": [
    "batch_size = [16, 32]\n",
    "opt = ['adam', 'adagrad']\n",
    "learning_rate = [.001, .01]\n",
    "epochs = [10, 15, 20]\n",
    "param_grid = dict(opt= opt, learning_rate = learning_rate, batch_size = batch_size,epochs = epochs)"
   ]
  },
  {
   "cell_type": "code",
   "execution_count": null,
   "metadata": {},
   "outputs": [],
   "source": [
    "model = KerasClassifier(build_fn=create_model, learning_rate=0.0001, opt='adam', verbose=1)\n",
    "\n",
    "n_iter_search = 10 # Number of parameter settings that are sampled.\n",
    "grid = RandomizedSearchCV(estimator=model, cv =3, \n",
    "                                   param_distributions=param_grid,\n",
    "                                   n_iter=n_iter_search, verbose = 10, n_jobs = -1)\n",
    "grid_result = grid.fit(X_train, y_train)"
   ]
  },
  {
   "cell_type": "code",
   "execution_count": 11,
   "metadata": {},
   "outputs": [],
   "source": [
    "def display_cv_results(search_results):\n",
    "    print('Best score = {:.4f} using {}'.format(search_results.best_score_, search_results.best_params_))\n",
    "    means = search_results.cv_results_['mean_test_score']\n",
    "    stds = search_results.cv_results_['std_test_score']\n",
    "    params = search_results.cv_results_['params']\n",
    "    for mean, stdev, param in zip(means, stds, params):\n",
    "        print('mean test accuracy +/- std = {:.4f} +/- {:.4f} with: {}'.format(mean, stdev, param))  "
   ]
  },
  {
   "cell_type": "markdown",
   "metadata": {},
   "source": [
    "As you can see in the output below of the grid search, the best score on the 3 fold cross validation came from an adagrad optimizer with a learning rate of .01, 15 epochs and a batch size of 16. "
   ]
  },
  {
   "cell_type": "code",
   "execution_count": 12,
   "metadata": {},
   "outputs": [
    {
     "name": "stdout",
     "output_type": "stream",
     "text": [
      "Best score = 0.8335 using {'opt': 'adagrad', 'learning_rate': 0.01, 'epochs': 15, 'batch_size': 16}\n",
      "mean test accuracy +/- std = 0.6714 +/- 0.1073 with: {'opt': 'adagrad', 'learning_rate': 0.01, 'epochs': 10, 'batch_size': 32}\n",
      "mean test accuracy +/- std = 0.5095 +/- 0.0010 with: {'opt': 'adam', 'learning_rate': 0.01, 'epochs': 20, 'batch_size': 32}\n",
      "mean test accuracy +/- std = 0.8335 +/- 0.0192 with: {'opt': 'adagrad', 'learning_rate': 0.01, 'epochs': 15, 'batch_size': 16}\n",
      "mean test accuracy +/- std = 0.7853 +/- 0.0543 with: {'opt': 'adam', 'learning_rate': 0.001, 'epochs': 20, 'batch_size': 32}\n",
      "mean test accuracy +/- std = 0.7326 +/- 0.1058 with: {'opt': 'adagrad', 'learning_rate': 0.01, 'epochs': 20, 'batch_size': 32}\n",
      "mean test accuracy +/- std = 0.5022 +/- 0.0093 with: {'opt': 'adam', 'learning_rate': 0.01, 'epochs': 20, 'batch_size': 16}\n",
      "mean test accuracy +/- std = 0.7109 +/- 0.0468 with: {'opt': 'adagrad', 'learning_rate': 0.01, 'epochs': 15, 'batch_size': 32}\n",
      "mean test accuracy +/- std = 0.7343 +/- 0.0216 with: {'opt': 'adagrad', 'learning_rate': 0.001, 'epochs': 15, 'batch_size': 32}\n",
      "mean test accuracy +/- std = 0.7927 +/- 0.0179 with: {'opt': 'adam', 'learning_rate': 0.001, 'epochs': 20, 'batch_size': 16}\n",
      "mean test accuracy +/- std = 0.5095 +/- 0.0010 with: {'opt': 'adam', 'learning_rate': 0.01, 'epochs': 10, 'batch_size': 16}\n"
     ]
    }
   ],
   "source": [
    "display_cv_results(grid_result)"
   ]
  },
  {
   "cell_type": "code",
   "execution_count": 27,
   "metadata": {},
   "outputs": [
    {
     "name": "stdout",
     "output_type": "stream",
     "text": [
      "Epoch 1/15\n",
      "Epoch 2/15\n",
      "Epoch 3/15\n",
      "Epoch 4/15\n",
      "Epoch 5/15\n",
      "Epoch 6/15\n",
      "Epoch 7/15\n",
      "Epoch 8/15\n",
      "Epoch 9/15\n",
      "Epoch 10/15\n",
      "Epoch 11/15\n",
      "Epoch 12/15\n",
      "Epoch 13/15\n",
      "Epoch 14/15\n",
      "Epoch 15/15\n"
     ]
    }
   ],
   "source": [
    "# run the model with the results from hyperparam tuning \n",
    "model = create_model(learning_rate=0.01, opt='adagrad')\n",
    "\n",
    "history = model.fit(x=X_train, y=np.array(y_train), validation_data=(X_val, np.array(y_val)), batch_size=16, epochs=15, verbose=10)\n",
    " "
   ]
  },
  {
   "cell_type": "code",
   "execution_count": 32,
   "metadata": {},
   "outputs": [
    {
     "data": {
      "image/png": "[encoded data removed]",
      "text/plain": [
       "<Figure size 432x288 with 1 Axes>"
      ]
     },
     "metadata": {
      "needs_background": "light"
     },
     "output_type": "display_data"
    },
    {
     "data": {
      "image/png": "[encoded data removed]",
      "text/plain": [
       "<Figure size 432x288 with 1 Axes>"
      ]
     },
     "metadata": {
      "needs_background": "light"
     },
     "output_type": "display_data"
    }
   ],
   "source": [
    "# Model quality analysis\n",
    "# accuracy\n",
    "plt.plot(history.history['accuracy'])\n",
    "plt.plot(history.history['val_accuracy'])\n",
    "plt.title('model accuracy')\n",
    "plt.ylabel('accuracy')\n",
    "plt.xlabel('epoch')\n",
    "plt.legend(['train', 'test'], loc='upper left')\n",
    "plt.show()\n",
    "# loss\n",
    "plt.plot(history.history['loss'])\n",
    "plt.plot(history.history['val_loss'])\n",
    "plt.title('model loss')\n",
    "plt.ylabel('loss')\n",
    "plt.xlabel('epoch')\n",
    "plt.legend(['train', 'test'], loc='upper left')\n",
    "plt.show()"
   ]
  },
  {
   "cell_type": "markdown",
   "metadata": {},
   "source": [
    "**We have a testing accuracy of 78%. This is slightly lower than the accuracy on the valudation sets which was 82%.**"
   ]
  },
  {
   "cell_type": "code",
   "execution_count": 33,
   "metadata": {},
   "outputs": [
    {
     "name": "stdout",
     "output_type": "stream",
     "text": [
      "3/3 [==============================] - 1s 351ms/step - loss: 0.5581 - accuracy: 0.7791\n"
     ]
    },
    {
     "data": {
      "text/plain": [
       "[0.558110237121582, 0.7790697813034058]"
      ]
     },
     "execution_count": 33,
     "metadata": {},
     "output_type": "execute_result"
    }
   ],
   "source": [
    "model.evaluate(np.array(X_test),np.array(y_test))"
   ]
  },
  {
   "cell_type": "code",
   "execution_count": 34,
   "metadata": {},
   "outputs": [
    {
     "name": "stdout",
     "output_type": "stream",
     "text": [
      "3/3 [==============================] - 1s 353ms/step\n"
     ]
    },
    {
     "data": {
      "text/plain": [
       "Text(0.5, 62.15999999999998, 'Predicted')"
      ]
     },
     "execution_count": 34,
     "metadata": {},
     "output_type": "execute_result"
    },
    {
     "data": {
      "image/png": "[encoded data removed]",
      "text/plain": [
       "<Figure size 432x432 with 2 Axes>"
      ]
     },
     "metadata": {
      "needs_background": "light"
     },
     "output_type": "display_data"
    }
   ],
   "source": [
    "from sklearn.metrics import confusion_matrix\n",
    "import seaborn as sns\n",
    "\n",
    "predicted = [np.argmax(item) for item in model.predict(X_test)]\n",
    "\n",
    "conf = confusion_matrix(y_test,predicted)\n",
    "conf\n",
    "\n",
    "info = [\n",
    "    'benign'   ,  # 0\n",
    "    'malignant',  # 1\n",
    "]\n",
    "plt.figure(figsize = (6,6))\n",
    "ax = sns.heatmap(conf, cmap=plt.cm.Blues, annot=True, square=True, xticklabels = info, yticklabels = info)\n",
    "ax.set_ylabel('Actual', fontsize=40)\n",
    "ax.set_xlabel('Predicted', fontsize=40)"
   ]
  },
  {
   "cell_type": "markdown",
   "metadata": {},
   "source": [
    "### Results Insights and Analysis"
   ]
  },
  {
   "cell_type": "markdown",
   "metadata": {},
   "source": [
    "We can see from the confusion matrix above that there are is an fairly equal number of False Negatives and False Positives. But in general, the model was able to predict the tumors well. In this case, becase of the nature of the problem, we want as few False Negatives as possible because it would be detrimental to mark a module as benign when it's actual cancerous. That could lead to fatality in the patient. We also see that out model is nor overfitting and is able to generalize well to the test data set. Our testing accuracy isn't too high and our validation sets accuracy is what we wanted it to be. That also resulted in a good test accruacy for us since the model was able to generalize well to new data presented."
   ]
  },
  {
   "cell_type": "markdown",
   "metadata": {},
   "source": [
    "### Improvements "
   ]
  },
  {
   "cell_type": "markdown",
   "metadata": {},
   "source": [
    "I think the trianing process could be improved if we had a larger dataset and a more balanced data set. We were able to balance it by mirroing and slightly distorting images in the benign class, but that doesn't allow the model to generalize as well as it could if we had had pictures of new modules. There are so many nuances to pick up between the benign and malignant tumors that we need as many datapoints as possible to build a model that can pick up on all possible qualities of differentiators."
   ]
  },
  {
   "cell_type": "markdown",
   "metadata": {},
   "source": [
    "### Limitations "
   ]
  },
  {
   "cell_type": "markdown",
   "metadata": {},
   "source": [
    "It makes sense that there were less modules that we predicted as malignant but were actuallt benign because I'm assuming the classifier picked up on the fact that malignant modules have jagged edges where as benign ones don't, and it's pretty rare for a benign module to have jadded edges of that nature. Our training process can also be improved if we were able to run a gridsearch on more parameters with more permutations and combinations. Due to comute limitations and time constraints, we weren't able to run as massive of a gridsearch as we wanted to. "
   ]
  },
  {
   "cell_type": "code",
   "execution_count": null,
   "metadata": {},
   "outputs": [],
   "source": []
  }
 ],
 "metadata": {
  "kernelspec": {
   "display_name": "Python 3 (ipykernel)",
   "language": "python",
   "name": "python3"
  },
  "language_info": {
   "codemirror_mode": {
    "name": "ipython",
    "version": 3
   },
   "file_extension": ".py",
   "mimetype": "text/x-python",
   "name": "python",
   "nbconvert_exporter": "python",
   "pygments_lexer": "ipython3",
   "version": "3.7.10"
  },
  "vscode": {
   "interpreter": {
    "hash": "bbb2307e17ea36bb17521abc68671a87486d60f5db5f8ffac2e3b843695dd9f9"
   }
  }
 },
 "nbformat": 4,
 "nbformat_minor": 4
}
